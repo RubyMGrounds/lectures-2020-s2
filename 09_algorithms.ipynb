{
 "cells": [
  {
   "cell_type": "markdown",
   "metadata": {
    "slideshow": {
     "slide_type": "slide"
    }
   },
   "source": [
    "# Foundations of Computational Economics #9\n",
    "\n",
    "by Fedor Iskhakov, ANU\n",
    "\n",
    "<img src=\"_static/img/dag3logo.png\" style=\"width:256px;\">"
   ]
  },
  {
   "cell_type": "markdown",
   "metadata": {
    "slideshow": {
     "slide_type": "fragment"
    }
   },
   "source": [
    "## Algorithms and complexity\n",
    "\n",
    "<img src=\"_static/img/lecture.png\" style=\"width:64px;\">"
   ]
  },
  {
   "cell_type": "markdown",
   "metadata": {
    "slideshow": {
     "slide_type": "slide"
    }
   },
   "source": [
    "### Two ways to evaluate the polynomial\n",
    "\n",
    "$$\n",
    "y = a_1 + a_2 x + a_3 x^2 + \\dots + a_k x^k\n",
    "$$\n",
    "\n",
    "Algorithm 1: compute each term, then add together\n",
    "\n",
    "Algorithm 2: try to avoid computing powers"
   ]
  },
  {
   "cell_type": "code",
   "execution_count": 1,
   "metadata": {
    "hide-output": false,
    "slideshow": {
     "slide_type": "slide"
    }
   },
   "outputs": [],
   "source": [
    "def calc_polynomial(qs=[0,], x=0.0, algorithm='fast'):\n",
    "    '''Evaluates the polynomial given by coefficients qs at given x.\n",
    "    First coefficient qs[0] is a constant, last coefficient is for highest power.\n",
    "    '''\n",
    "    if algorithm is not 'fast':\n",
    "        # slower algorithm\n",
    "        res=0.0\n",
    "        for k in range(len(qs)):\n",
    "            xpw = x**k\n",
    "            res += qs[k] * xpw\n",
    "    else:\n",
    "        # faster algorithm\n",
    "        res,xpw = qs[0], x  # init result and power of x\n",
    "        for i in range(1,len(qs)):  # start with second coefficient\n",
    "            res += xpw * qs[i]\n",
    "            xpw *= x\n",
    "    return res"
   ]
  },
  {
   "cell_type": "markdown",
   "metadata": {
    "slideshow": {
     "slide_type": "slide"
    }
   },
   "source": [
    "#### Timing function evaluation\n",
    "\n",
    "Several ways to measure run time in python\n",
    "\n",
    "- **time** module  \n",
    "- **timeit** module (for small snippets)  \n",
    "- profiles (**profile** and **cProfile**, for large codes)  \n",
    "\n",
    "\n",
    "In Jupyter Notebooks we can use a **magic function** timeit"
   ]
  },
  {
   "cell_type": "code",
   "execution_count": 6,
   "metadata": {
    "hide-output": false,
    "slideshow": {
     "slide_type": "slide"
    }
   },
   "outputs": [
    {
     "ename": "SyntaxError",
     "evalue": "invalid syntax (<ipython-input-6-eaa7f8a07409>, line 1)",
     "output_type": "error",
     "traceback": [
      "\u001b[0;36m  File \u001b[0;32m\"<ipython-input-6-eaa7f8a07409>\"\u001b[0;36m, line \u001b[0;32m1\u001b[0m\n\u001b[0;31m    @timeit <options> <line of code to be timed>\u001b[0m\n\u001b[0m            ^\u001b[0m\n\u001b[0;31mSyntaxError\u001b[0m\u001b[0;31m:\u001b[0m invalid syntax\n"
     ]
    }
   ],
   "source": [
    "@timeit <options> <line of code to be timed>"
   ]
  },
  {
   "cell_type": "code",
   "execution_count": null,
   "metadata": {
    "hide-output": false,
    "slideshow": {
     "slide_type": "fragment"
    }
   },
   "outputs": [],
   "source": [
    "@@timeit <options> <setup command>\n",
    "all lines of code in the cell\n",
    "to be timed together"
   ]
  },
  {
   "cell_type": "markdown",
   "metadata": {
    "slideshow": {
     "slide_type": "fragment"
    }
   },
   "source": [
    "[Documentation on @timeit](https://ipython.readthedocs.io/en/stable/interactive/magics.html?highlight=timeit#magic-timeit)"
   ]
  },
  {
   "cell_type": "code",
   "execution_count": 7,
   "metadata": {
    "hide-output": false,
    "slideshow": {
     "slide_type": "slide"
    }
   },
   "outputs": [
    {
     "name": "stdout",
     "output_type": "stream",
     "text": [
      "121 µs ± 6.34 µs per loop (mean ± std. dev. of 100 runs, 100 loops each)\n"
     ]
    }
   ],
   "source": [
    "%%timeit -n100 -r100 qs = [1,]*100\n",
    "calc_polynomial(qs,15,'slow')"
   ]
  },
  {
   "cell_type": "code",
   "execution_count": 8,
   "metadata": {
    "hide-output": false,
    "slideshow": {
     "slide_type": "fragment"
    }
   },
   "outputs": [
    {
     "name": "stdout",
     "output_type": "stream",
     "text": [
      "44.4 µs ± 10.1 µs per loop (mean ± std. dev. of 100 runs, 100 loops each)\n"
     ]
    }
   ],
   "source": [
    "%%timeit -n100 -r100 qs = [1,]*100\n",
    "calc_polynomial(qs,15,'fast')"
   ]
  },
  {
   "cell_type": "markdown",
   "metadata": {
    "slideshow": {
     "slide_type": "slide"
    }
   },
   "source": [
    "### Algorithms\n",
    "\n",
    "**Sequence of commands** for computer to run\n",
    "\n",
    "1. How much time does it take to run?  \n",
    "1. How much memory does it need?  \n",
    "1. What other resources may be limiting? (storage, communication, etc)  \n",
    "\n",
    "\n",
    "**Smart algorithm is a lot more important that fast computer**"
   ]
  },
  {
   "cell_type": "markdown",
   "metadata": {
    "slideshow": {
     "slide_type": "slide"
    }
   },
   "source": [
    "#### Computational speed and algorithm development\n",
    "\n",
    "[Professor Martin Grötschel Konrad-Zuse-Zentrum für Informationstechnik\n",
    "Berlin, expert in optimization](http://robertvienneau.blogspot.com/2011/01/increase-in-feasibility-of-economic.html)\n",
    "\n",
    "> “a benchmark production planning model solved using linear\n",
    "programming would have taken 82 years to solve in 1988, using the\n",
    "computers and the linear programming algorithms of the day. Fifteen\n",
    "years later – in 2003 – this same model could be solved in roughly 1\n",
    "minute, an improvement by a factor of roughly 43 million. Of this, a\n",
    "factor of roughly 1,000 was due to increased processor speed, whereas\n",
    "a factor of roughly 43,000 was due to improvements in algorithms!”"
   ]
  },
  {
   "cell_type": "code",
   "execution_count": 9,
   "metadata": {
    "hide-output": false,
    "slideshow": {
     "slide_type": "subslide"
    }
   },
   "outputs": [
    {
     "name": "stdout",
     "output_type": "stream",
     "text": [
      "Overwriting algorithm_examples.py\n"
     ]
    }
   ],
   "source": [
    "%%writefile 'algorithm_examples.py'\n",
    "\n",
    "# Example code to be discussed in the following videos\n",
    "\n",
    "import time\n",
    "\n",
    "def parity (n,verbose=False):\n",
    "    '''Returns 1 if passed integer number is odd\n",
    "    '''\n",
    "    if not isinstance(n, int): raise TypeError('Only integers in parity()')\n",
    "    if verbose: print('n = ', format(n, \"b\"))  # print binary form of the number\n",
    "    return n & 1  # bitwise and operation returns the value of last bit\n",
    "\n",
    "def maximum_from_list (vars):\n",
    "    '''Returns the maximum from a list of values\n",
    "    '''\n",
    "    m=float('-inf')  # init with the worst value\n",
    "    for v in vars:\n",
    "        if v > m: m = v\n",
    "    return m\n",
    "\n",
    "def binary_search(grid=[0,1],val=0,delay=0):\n",
    "    '''Returns the index of val on the sorted grid\n",
    "    Optional delay introduces a delay (in microsecond)\n",
    "    '''\n",
    "    i1,i2 = 0,len(grid)-1\n",
    "    if val==grid[i1]: return i1\n",
    "    if val==grid[i2]: return i2\n",
    "    j=(i1+i2)//2\n",
    "    while grid[j]!=val:\n",
    "        if val>grid[j]:\n",
    "            i1=j\n",
    "        else:\n",
    "            i2=j\n",
    "        j=(i1+i2)//2  # divide in half\n",
    "        time.sleep(delay*1e-6)  # micro-sec to seconds\n",
    "    return j\n",
    "\n",
    "def compositions(N,m):\n",
    "    '''Iterable on compositions of N with m parts\n",
    "    Returns the generator (to be used in for loops)\n",
    "    '''\n",
    "    cmp=[0,]*m\n",
    "    cmp[m-1]=N  # initial composition is all to the last\n",
    "    yield cmp\n",
    "    while cmp[0]!=N:\n",
    "        i=m-1\n",
    "        while cmp[i]==0: i-=1  # find lowest non-zero digit\n",
    "        cmp[i-1] = cmp[i-1]+1  # increment next digit\n",
    "        cmp[m-1] = cmp[i]-1    # the rest to the lowest\n",
    "        if i!=m-1: cmp[i] = 0  # maintain cost sum\n",
    "        yield cmp"
   ]
  },
  {
   "cell_type": "markdown",
   "metadata": {
    "slideshow": {
     "slide_type": "slide"
    }
   },
   "source": [
    "#### Parity of a number\n",
    "\n",
    "Check whether an integer is odd or even.\n",
    "\n",
    "Algorithm: check the last bit in the binary representation of a number"
   ]
  },
  {
   "cell_type": "code",
   "execution_count": 10,
   "metadata": {
    "hide-output": false,
    "slideshow": {
     "slide_type": "fragment"
    }
   },
   "outputs": [
    {
     "name": "stdout",
     "output_type": "stream",
     "text": [
      "k=10 (4 bits)\n",
      "The slowest run took 5.01 times longer than the fastest. This could mean that an intermediate result is being cached.\n",
      "538 ns ± 148 ns per loop (mean ± std. dev. of 500 runs, 5000 loops each)\n",
      "k=101 (7 bits)\n",
      "The slowest run took 12.88 times longer than the fastest. This could mean that an intermediate result is being cached.\n",
      "494 ns ± 231 ns per loop (mean ± std. dev. of 500 runs, 5000 loops each)\n",
      "k=1002 (10 bits)\n",
      "The slowest run took 27.19 times longer than the fastest. This could mean that an intermediate result is being cached.\n",
      "657 ns ± 521 ns per loop (mean ± std. dev. of 500 runs, 5000 loops each)\n",
      "k=10003 (14 bits)\n",
      "The slowest run took 33.12 times longer than the fastest. This could mean that an intermediate result is being cached.\n",
      "673 ns ± 641 ns per loop (mean ± std. dev. of 500 runs, 5000 loops each)\n",
      "k=100004 (17 bits)\n",
      "521 ns ± 98.4 ns per loop (mean ± std. dev. of 500 runs, 5000 loops each)\n"
     ]
    }
   ],
   "source": [
    "# import all example code\n",
    "from algorithm_examples import *\n",
    "\n",
    "for k in [10**(i+1)+i for i in range(5)]:\n",
    "    print('k=%d (%d bits)' % (k,k.bit_length()))\n",
    "    tt = %timeit -n5000 -r500 -o parity(k)"
   ]
  },
  {
   "cell_type": "code",
   "execution_count": 11,
   "metadata": {
    "hide-output": false,
    "slideshow": {
     "slide_type": "slide"
    }
   },
   "outputs": [
    {
     "name": "stdout",
     "output_type": "stream",
     "text": [
      "508 ns ± 53.2 ns per loop (mean ± std. dev. of 100 runs, 5000 loops each)\n",
      "522 ns ± 65 ns per loop (mean ± std. dev. of 100 runs, 5000 loops each)\n",
      "562 ns ± 118 ns per loop (mean ± std. dev. of 100 runs, 5000 loops each)\n",
      "545 ns ± 126 ns per loop (mean ± std. dev. of 100 runs, 5000 loops each)\n",
      "582 ns ± 114 ns per loop (mean ± std. dev. of 100 runs, 5000 loops each)\n",
      "568 ns ± 149 ns per loop (mean ± std. dev. of 100 runs, 5000 loops each)\n",
      "575 ns ± 108 ns per loop (mean ± std. dev. of 100 runs, 5000 loops each)\n",
      "528 ns ± 71.7 ns per loop (mean ± std. dev. of 100 runs, 5000 loops each)\n",
      "563 ns ± 103 ns per loop (mean ± std. dev. of 100 runs, 5000 loops each)\n",
      "518 ns ± 67.4 ns per loop (mean ± std. dev. of 100 runs, 5000 loops each)\n",
      "535 ns ± 88 ns per loop (mean ± std. dev. of 100 runs, 5000 loops each)\n",
      "526 ns ± 65.8 ns per loop (mean ± std. dev. of 100 runs, 5000 loops each)\n",
      "550 ns ± 94.8 ns per loop (mean ± std. dev. of 100 runs, 5000 loops each)\n",
      "533 ns ± 82.4 ns per loop (mean ± std. dev. of 100 runs, 5000 loops each)\n",
      "557 ns ± 110 ns per loop (mean ± std. dev. of 100 runs, 5000 loops each)\n",
      "535 ns ± 107 ns per loop (mean ± std. dev. of 100 runs, 5000 loops each)\n",
      "588 ns ± 170 ns per loop (mean ± std. dev. of 100 runs, 5000 loops each)\n",
      "The slowest run took 4.87 times longer than the fastest. This could mean that an intermediate result is being cached.\n",
      "573 ns ± 203 ns per loop (mean ± std. dev. of 100 runs, 5000 loops each)\n",
      "579 ns ± 110 ns per loop (mean ± std. dev. of 100 runs, 5000 loops each)\n",
      "558 ns ± 126 ns per loop (mean ± std. dev. of 100 runs, 5000 loops each)\n",
      "572 ns ± 146 ns per loop (mean ± std. dev. of 100 runs, 5000 loops each)\n",
      "544 ns ± 74.1 ns per loop (mean ± std. dev. of 100 runs, 5000 loops each)\n",
      "557 ns ± 106 ns per loop (mean ± std. dev. of 100 runs, 5000 loops each)\n",
      "575 ns ± 152 ns per loop (mean ± std. dev. of 100 runs, 5000 loops each)\n",
      "541 ns ± 83.5 ns per loop (mean ± std. dev. of 100 runs, 5000 loops each)\n",
      "587 ns ± 125 ns per loop (mean ± std. dev. of 100 runs, 5000 loops each)\n",
      "The slowest run took 6.13 times longer than the fastest. This could mean that an intermediate result is being cached.\n",
      "577 ns ± 237 ns per loop (mean ± std. dev. of 100 runs, 5000 loops each)\n",
      "The slowest run took 7.94 times longer than the fastest. This could mean that an intermediate result is being cached.\n",
      "649 ns ± 260 ns per loop (mean ± std. dev. of 100 runs, 5000 loops each)\n",
      "637 ns ± 116 ns per loop (mean ± std. dev. of 100 runs, 5000 loops each)\n",
      "The slowest run took 10.84 times longer than the fastest. This could mean that an intermediate result is being cached.\n",
      "739 ns ± 418 ns per loop (mean ± std. dev. of 100 runs, 5000 loops each)\n",
      "681 ns ± 151 ns per loop (mean ± std. dev. of 100 runs, 5000 loops each)\n",
      "561 ns ± 99.4 ns per loop (mean ± std. dev. of 100 runs, 5000 loops each)\n",
      "566 ns ± 150 ns per loop (mean ± std. dev. of 100 runs, 5000 loops each)\n",
      "552 ns ± 81.5 ns per loop (mean ± std. dev. of 100 runs, 5000 loops each)\n",
      "536 ns ± 118 ns per loop (mean ± std. dev. of 100 runs, 5000 loops each)\n",
      "The slowest run took 4.42 times longer than the fastest. This could mean that an intermediate result is being cached.\n",
      "602 ns ± 167 ns per loop (mean ± std. dev. of 100 runs, 5000 loops each)\n",
      "The slowest run took 4.68 times longer than the fastest. This could mean that an intermediate result is being cached.\n",
      "557 ns ± 161 ns per loop (mean ± std. dev. of 100 runs, 5000 loops each)\n",
      "553 ns ± 120 ns per loop (mean ± std. dev. of 100 runs, 5000 loops each)\n",
      "549 ns ± 122 ns per loop (mean ± std. dev. of 100 runs, 5000 loops each)\n",
      "The slowest run took 4.17 times longer than the fastest. This could mean that an intermediate result is being cached.\n",
      "544 ns ± 143 ns per loop (mean ± std. dev. of 100 runs, 5000 loops each)\n",
      "524 ns ± 80.4 ns per loop (mean ± std. dev. of 100 runs, 5000 loops each)\n",
      "517 ns ± 83.1 ns per loop (mean ± std. dev. of 100 runs, 5000 loops each)\n",
      "509 ns ± 88.6 ns per loop (mean ± std. dev. of 100 runs, 5000 loops each)\n",
      "541 ns ± 125 ns per loop (mean ± std. dev. of 100 runs, 5000 loops each)\n",
      "The slowest run took 5.34 times longer than the fastest. This could mean that an intermediate result is being cached.\n",
      "582 ns ± 182 ns per loop (mean ± std. dev. of 100 runs, 5000 loops each)\n",
      "The slowest run took 5.41 times longer than the fastest. This could mean that an intermediate result is being cached.\n",
      "599 ns ± 159 ns per loop (mean ± std. dev. of 100 runs, 5000 loops each)\n",
      "529 ns ± 110 ns per loop (mean ± std. dev. of 100 runs, 5000 loops each)\n",
      "536 ns ± 138 ns per loop (mean ± std. dev. of 100 runs, 5000 loops each)\n",
      "498 ns ± 103 ns per loop (mean ± std. dev. of 100 runs, 5000 loops each)\n",
      "492 ns ± 99.9 ns per loop (mean ± std. dev. of 100 runs, 5000 loops each)\n"
     ]
    },
    {
     "data": {
      "image/png": "[encoded data removed]",
      "text/plain": [
       "<Figure size 864x576 with 1 Axes>"
      ]
     },
     "metadata": {
      "needs_background": "light"
     },
     "output_type": "display_data"
    }
   ],
   "source": [
    "import matplotlib.pyplot as plt\n",
    "%matplotlib inline\n",
    "plt.rcParams['figure.figsize'] = [12, 8]\n",
    "\n",
    "N = 50\n",
    "kk = lambda i: 10**(i+1)+i  # step formula\n",
    "n,x,std = [0]*N,[0]*N,[0]*N # initialize data lists\n",
    "for i in range(N):\n",
    "    k = kk(i)  # input value for testing\n",
    "    n[i] = k.bit_length() # size of problem = bits in number\n",
    "    t = %timeit -n5000 -r100 -o parity(k)\n",
    "    x[i] = t.average\n",
    "    std[i] = t.stdev\n",
    "\n",
    "plt.errorbar(n,x,std)\n",
    "plt.xlabel('number of bits in the input argument')\n",
    "plt.ylabel('run time, sec')\n",
    "plt.show()"
   ]
  },
  {
   "cell_type": "markdown",
   "metadata": {
    "slideshow": {
     "slide_type": "slide"
    }
   },
   "source": [
    "#### Finding max/min of a list\n",
    "\n",
    "Find max or min in an unsorted list of values\n",
    "\n",
    "Algorithm: run through the list once"
   ]
  },
  {
   "cell_type": "code",
   "execution_count": 15,
   "metadata": {
    "hide-output": false,
    "slideshow": {
     "slide_type": "fragment"
    }
   },
   "outputs": [
    {
     "name": "stdout",
     "output_type": "stream",
     "text": [
      "[75.68672826 68.23428103 27.2657766  88.37769132 22.44270244  7.99155297\n",
      " 32.99938308 17.55352256 86.14864891 91.11087596]\n",
      "max=91.110876\n"
     ]
    }
   ],
   "source": [
    "import numpy as np\n",
    "N = 10\n",
    "# generate uniformly distributed values between given bounds\n",
    "x = np.random.uniform(low=0.0, high=100.0, size=N)\n",
    "print(x)\n",
    "print(\"max=%f\"%maximum_from_list(x))"
   ]
  },
  {
   "cell_type": "code",
   "execution_count": 16,
   "metadata": {
    "hide-output": false,
    "slideshow": {
     "slide_type": "slide"
    }
   },
   "outputs": [
    {
     "name": "stdout",
     "output_type": "stream",
     "text": [
      "The slowest run took 8.34 times longer than the fastest. This could mean that an intermediate result is being cached.\n",
      "1.99 µs ± 1.39 µs per loop (mean ± std. dev. of 100 runs, 1000 loops each)\n",
      "2.5 µs ± 417 ns per loop (mean ± std. dev. of 100 runs, 1000 loops each)\n",
      "3.32 µs ± 891 ns per loop (mean ± std. dev. of 100 runs, 1000 loops each)\n",
      "3.7 µs ± 467 ns per loop (mean ± std. dev. of 100 runs, 1000 loops each)\n",
      "4.31 µs ± 555 ns per loop (mean ± std. dev. of 100 runs, 1000 loops each)\n",
      "4.94 µs ± 786 ns per loop (mean ± std. dev. of 100 runs, 1000 loops each)\n",
      "5.98 µs ± 1 µs per loop (mean ± std. dev. of 100 runs, 1000 loops each)\n",
      "The slowest run took 4.84 times longer than the fastest. This could mean that an intermediate result is being cached.\n",
      "8.44 µs ± 3.19 µs per loop (mean ± std. dev. of 100 runs, 1000 loops each)\n",
      "7.04 µs ± 1.43 µs per loop (mean ± std. dev. of 100 runs, 1000 loops each)\n",
      "7.52 µs ± 729 ns per loop (mean ± std. dev. of 100 runs, 1000 loops each)\n",
      "8.06 µs ± 989 ns per loop (mean ± std. dev. of 100 runs, 1000 loops each)\n",
      "8.35 µs ± 706 ns per loop (mean ± std. dev. of 100 runs, 1000 loops each)\n",
      "8.87 µs ± 687 ns per loop (mean ± std. dev. of 100 runs, 1000 loops each)\n",
      "The slowest run took 4.20 times longer than the fastest. This could mean that an intermediate result is being cached.\n",
      "11.3 µs ± 4.17 µs per loop (mean ± std. dev. of 100 runs, 1000 loops each)\n",
      "The slowest run took 7.13 times longer than the fastest. This could mean that an intermediate result is being cached.\n",
      "16.1 µs ± 7.68 µs per loop (mean ± std. dev. of 100 runs, 1000 loops each)\n",
      "13.8 µs ± 2.42 µs per loop (mean ± std. dev. of 100 runs, 1000 loops each)\n",
      "10.9 µs ± 947 ns per loop (mean ± std. dev. of 100 runs, 1000 loops each)\n",
      "12 µs ± 2.77 µs per loop (mean ± std. dev. of 100 runs, 1000 loops each)\n",
      "The slowest run took 4.70 times longer than the fastest. This could mean that an intermediate result is being cached.\n",
      "12.5 µs ± 3.77 µs per loop (mean ± std. dev. of 100 runs, 1000 loops each)\n",
      "12.1 µs ± 1.72 µs per loop (mean ± std. dev. of 100 runs, 1000 loops each)\n",
      "12.1 µs ± 1.45 µs per loop (mean ± std. dev. of 100 runs, 1000 loops each)\n",
      "12.5 µs ± 1.6 µs per loop (mean ± std. dev. of 100 runs, 1000 loops each)\n",
      "13.3 µs ± 2.36 µs per loop (mean ± std. dev. of 100 runs, 1000 loops each)\n",
      "13.7 µs ± 2.04 µs per loop (mean ± std. dev. of 100 runs, 1000 loops each)\n",
      "14 µs ± 2.05 µs per loop (mean ± std. dev. of 100 runs, 1000 loops each)\n",
      "14.1 µs ± 2.18 µs per loop (mean ± std. dev. of 100 runs, 1000 loops each)\n",
      "15.1 µs ± 2.33 µs per loop (mean ± std. dev. of 100 runs, 1000 loops each)\n",
      "14.7 µs ± 2.21 µs per loop (mean ± std. dev. of 100 runs, 1000 loops each)\n",
      "The slowest run took 4.19 times longer than the fastest. This could mean that an intermediate result is being cached.\n",
      "17.7 µs ± 5.14 µs per loop (mean ± std. dev. of 100 runs, 1000 loops each)\n",
      "The slowest run took 5.08 times longer than the fastest. This could mean that an intermediate result is being cached.\n",
      "27.4 µs ± 11.3 µs per loop (mean ± std. dev. of 100 runs, 1000 loops each)\n",
      "20.4 µs ± 7.05 µs per loop (mean ± std. dev. of 100 runs, 1000 loops each)\n",
      "21.4 µs ± 5.88 µs per loop (mean ± std. dev. of 100 runs, 1000 loops each)\n",
      "The slowest run took 5.28 times longer than the fastest. This could mean that an intermediate result is being cached.\n",
      "23 µs ± 8.48 µs per loop (mean ± std. dev. of 100 runs, 1000 loops each)\n",
      "The slowest run took 9.13 times longer than the fastest. This could mean that an intermediate result is being cached.\n",
      "27.7 µs ± 16.5 µs per loop (mean ± std. dev. of 100 runs, 1000 loops each)\n",
      "20 µs ± 4.27 µs per loop (mean ± std. dev. of 100 runs, 1000 loops each)\n",
      "The slowest run took 4.35 times longer than the fastest. This could mean that an intermediate result is being cached.\n",
      "21.8 µs ± 6.32 µs per loop (mean ± std. dev. of 100 runs, 1000 loops each)\n",
      "19.8 µs ± 3.24 µs per loop (mean ± std. dev. of 100 runs, 1000 loops each)\n",
      "19 µs ± 2.63 µs per loop (mean ± std. dev. of 100 runs, 1000 loops each)\n",
      "19 µs ± 2.72 µs per loop (mean ± std. dev. of 100 runs, 1000 loops each)\n",
      "20.4 µs ± 2.56 µs per loop (mean ± std. dev. of 100 runs, 1000 loops each)\n",
      "21.4 µs ± 3.32 µs per loop (mean ± std. dev. of 100 runs, 1000 loops each)\n",
      "20.9 µs ± 3.1 µs per loop (mean ± std. dev. of 100 runs, 1000 loops each)\n",
      "21.5 µs ± 2.7 µs per loop (mean ± std. dev. of 100 runs, 1000 loops each)\n",
      "23 µs ± 4.26 µs per loop (mean ± std. dev. of 100 runs, 1000 loops each)\n",
      "22.5 µs ± 3.72 µs per loop (mean ± std. dev. of 100 runs, 1000 loops each)\n",
      "21.1 µs ± 2.78 µs per loop (mean ± std. dev. of 100 runs, 1000 loops each)\n",
      "21.8 µs ± 2.88 µs per loop (mean ± std. dev. of 100 runs, 1000 loops each)\n",
      "22 µs ± 2.91 µs per loop (mean ± std. dev. of 100 runs, 1000 loops each)\n",
      "24.4 µs ± 4.66 µs per loop (mean ± std. dev. of 100 runs, 1000 loops each)\n",
      "22.8 µs ± 3.21 µs per loop (mean ± std. dev. of 100 runs, 1000 loops each)\n"
     ]
    },
    {
     "data": {
      "image/png": "[encoded data removed]",
      "text/plain": [
       "<Figure size 864x576 with 1 Axes>"
      ]
     },
     "metadata": {
      "needs_background": "light"
     },
     "output_type": "display_data"
    }
   ],
   "source": [
    "N = 50\n",
    "kk = lambda i: 2*i  # step formula\n",
    "n,x,std = [0]*N,[0]*N,[0]*N # initialize data lists\n",
    "# each algoration has new list with new length\n",
    "for i in range(N):\n",
    "    n[i] = kk(i) # size of the array\n",
    "    vv = np.random.uniform(low=0.0, high=100.0, size=n[i])\n",
    "    t = %timeit -n1000 -r100 -o maximum_from_list(vv)\n",
    "    x[i] = t.average\n",
    "    std[i] = t.stdev\n",
    "\n",
    "plt.errorbar(n,x,std)\n",
    "plt.xlabel('number of elements in the list')\n",
    "plt.ylabel('run time, sec')\n",
    "plt.show()"
   ]
  },
  {
   "cell_type": "markdown",
   "metadata": {
    "slideshow": {
     "slide_type": "slide"
    }
   },
   "source": [
    "### Binary search\n",
    "\n",
    "Find an element between given boundaries\n",
    "\n",
    "1. Think of number between 1 and 100  \n",
    "1. How many guesses are needed to locate it if the only answers are “below” and “above”?  \n",
    "1. What is the optimal sequece of questions?  "
   ]
  },
  {
   "cell_type": "code",
   "execution_count": 28,
   "metadata": {
    "hide-output": false,
    "slideshow": {
     "slide_type": "slide"
    }
   },
   "outputs": [
    {
     "name": "stdout",
     "output_type": "stream",
     "text": [
      "Index of x[8]=87 in array([ 2,  5,  9, 21, 56, 81, 85, 86, 87, 98]) is 8\n"
     ]
    }
   ],
   "source": [
    "N = 10\n",
    "# random sorted sequence of integers up to 100\n",
    "x = np.random.choice(100,size=N,replace=False)\n",
    "# numbers not allowed to repeat themselves\n",
    "# size is the length of the vector of numbers where something is chosen from\n",
    "x = np.sort(x)\n",
    "# random choice of one number/index\n",
    "k0 = np.random.choice(N,size=1)\n",
    "\n",
    "k1 = binary_search(grid=x,val=x[k0])\n",
    "print(\"Index of x[%d]=%d in %r is %d\"%(k0,x[k0],x,k1))"
   ]
  },
  {
   "cell_type": "code",
   "execution_count": 26,
   "metadata": {},
   "outputs": [
    {
     "data": {
      "text/plain": [
       "array([6])"
      ]
     },
     "execution_count": 26,
     "metadata": {},
     "output_type": "execute_result"
    }
   ],
   "source": [
    "k0"
   ]
  },
  {
   "cell_type": "code",
   "execution_count": 29,
   "metadata": {
    "hide-output": false,
    "slideshow": {
     "slide_type": "slide"
    }
   },
   "outputs": [
    {
     "name": "stdout",
     "output_type": "stream",
     "text": [
      "1.14 ms ± 215 µs per loop (mean ± std. dev. of 100 runs, 10 loops each)\n",
      "1.14 ms ± 146 µs per loop (mean ± std. dev. of 100 runs, 10 loops each)\n",
      "1.12 ms ± 101 µs per loop (mean ± std. dev. of 100 runs, 10 loops each)\n",
      "1.13 ms ± 60 µs per loop (mean ± std. dev. of 100 runs, 10 loops each)\n",
      "1.18 ms ± 106 µs per loop (mean ± std. dev. of 100 runs, 10 loops each)\n",
      "1.21 ms ± 63.4 µs per loop (mean ± std. dev. of 100 runs, 10 loops each)\n",
      "1.25 ms ± 133 µs per loop (mean ± std. dev. of 100 runs, 10 loops each)\n",
      "1.24 ms ± 95.1 µs per loop (mean ± std. dev. of 100 runs, 10 loops each)\n",
      "1.29 ms ± 129 µs per loop (mean ± std. dev. of 100 runs, 10 loops each)\n",
      "1.28 ms ± 76.6 µs per loop (mean ± std. dev. of 100 runs, 10 loops each)\n",
      "The slowest run took 4.83 times longer than the fastest. This could mean that an intermediate result is being cached.\n",
      "1.38 ms ± 485 µs per loop (mean ± std. dev. of 100 runs, 10 loops each)\n",
      "The slowest run took 4.69 times longer than the fastest. This could mean that an intermediate result is being cached.\n",
      "1.54 ms ± 646 µs per loop (mean ± std. dev. of 100 runs, 10 loops each)\n",
      "1.36 ms ± 138 µs per loop (mean ± std. dev. of 100 runs, 10 loops each)\n",
      "1.32 ms ± 75.4 µs per loop (mean ± std. dev. of 100 runs, 10 loops each)\n",
      "1.31 ms ± 58.6 µs per loop (mean ± std. dev. of 100 runs, 10 loops each)\n",
      "1.36 ms ± 111 µs per loop (mean ± std. dev. of 100 runs, 10 loops each)\n",
      "1.39 ms ± 159 µs per loop (mean ± std. dev. of 100 runs, 10 loops each)\n",
      "1.43 ms ± 90.6 µs per loop (mean ± std. dev. of 100 runs, 10 loops each)\n",
      "1.38 ms ± 114 µs per loop (mean ± std. dev. of 100 runs, 10 loops each)\n",
      "1.39 ms ± 100 µs per loop (mean ± std. dev. of 100 runs, 10 loops each)\n",
      "1.38 ms ± 71.8 µs per loop (mean ± std. dev. of 100 runs, 10 loops each)\n",
      "1.4 ms ± 64.8 µs per loop (mean ± std. dev. of 100 runs, 10 loops each)\n",
      "1.41 ms ± 103 µs per loop (mean ± std. dev. of 100 runs, 10 loops each)\n",
      "1.43 ms ± 137 µs per loop (mean ± std. dev. of 100 runs, 10 loops each)\n",
      "1.46 ms ± 104 µs per loop (mean ± std. dev. of 100 runs, 10 loops each)\n",
      "1.43 ms ± 70.7 µs per loop (mean ± std. dev. of 100 runs, 10 loops each)\n",
      "1.54 ms ± 250 µs per loop (mean ± std. dev. of 100 runs, 10 loops each)\n",
      "1.43 ms ± 80.1 µs per loop (mean ± std. dev. of 100 runs, 10 loops each)\n",
      "1.43 ms ± 64.4 µs per loop (mean ± std. dev. of 100 runs, 10 loops each)\n",
      "1.44 ms ± 62.2 µs per loop (mean ± std. dev. of 100 runs, 10 loops each)\n",
      "The slowest run took 4.83 times longer than the fastest. This could mean that an intermediate result is being cached.\n",
      "1.57 ms ± 429 µs per loop (mean ± std. dev. of 100 runs, 10 loops each)\n",
      "1.48 ms ± 217 µs per loop (mean ± std. dev. of 100 runs, 10 loops each)\n",
      "1.47 ms ± 97.6 µs per loop (mean ± std. dev. of 100 runs, 10 loops each)\n",
      "1.49 ms ± 115 µs per loop (mean ± std. dev. of 100 runs, 10 loops each)\n",
      "1.44 ms ± 66.1 µs per loop (mean ± std. dev. of 100 runs, 10 loops each)\n",
      "1.53 ms ± 107 µs per loop (mean ± std. dev. of 100 runs, 10 loops each)\n",
      "1.52 ms ± 192 µs per loop (mean ± std. dev. of 100 runs, 10 loops each)\n",
      "1.64 ms ± 189 µs per loop (mean ± std. dev. of 100 runs, 10 loops each)\n",
      "1.49 ms ± 62 µs per loop (mean ± std. dev. of 100 runs, 10 loops each)\n",
      "1.55 ms ± 187 µs per loop (mean ± std. dev. of 100 runs, 10 loops each)\n",
      "1.57 ms ± 224 µs per loop (mean ± std. dev. of 100 runs, 10 loops each)\n",
      "1.5 ms ± 72.8 µs per loop (mean ± std. dev. of 100 runs, 10 loops each)\n",
      "1.51 ms ± 64.1 µs per loop (mean ± std. dev. of 100 runs, 10 loops each)\n",
      "1.55 ms ± 113 µs per loop (mean ± std. dev. of 100 runs, 10 loops each)\n",
      "1.53 ms ± 105 µs per loop (mean ± std. dev. of 100 runs, 10 loops each)\n",
      "1.53 ms ± 124 µs per loop (mean ± std. dev. of 100 runs, 10 loops each)\n",
      "1.54 ms ± 79.4 µs per loop (mean ± std. dev. of 100 runs, 10 loops each)\n",
      "1.52 ms ± 105 µs per loop (mean ± std. dev. of 100 runs, 10 loops each)\n",
      "1.52 ms ± 75.5 µs per loop (mean ± std. dev. of 100 runs, 10 loops each)\n",
      "1.52 ms ± 71.1 µs per loop (mean ± std. dev. of 100 runs, 10 loops each)\n"
     ]
    },
    {
     "data": {
      "image/png": "[encoded data removed]",
      "text/plain": [
       "<Figure size 864x576 with 1 Axes>"
      ]
     },
     "metadata": {
      "needs_background": "light"
     },
     "output_type": "display_data"
    },
    {
     "data": {
      "image/png": "[encoded data removed]",
      "text/plain": [
       "<Figure size 864x576 with 1 Axes>"
      ]
     },
     "metadata": {
      "needs_background": "light"
     },
     "output_type": "display_data"
    }
   ],
   "source": [
    "N = 50  # number of points\n",
    "kk = lambda i: 100+(i+1)*500  # step formula\n",
    "# precompute the sorted sequence of integers of max length\n",
    "vv = np.random.choice(10*kk(N),size=kk(N),replace=False)\n",
    "vv = np.sort(vv)\n",
    "\n",
    "n,x,std = [0]*N,[0]*N,[0]*N   # initialize lists\n",
    "for i in range(N):\n",
    "    n[i] = kk(i)  # number of list elements\n",
    "    # randomize the choice in each run to smooth out simulation error\n",
    "    t = %timeit -n10 -r100 -o binary_search(grid=vv[:n[i]],val=vv[np.random.choice(n[i],size=1)],delay=50)\n",
    "    x[i] = t.average\n",
    "    std[i] = t.stdev\n",
    "\n",
    "plt.errorbar(n,x,std)\n",
    "plt.xlabel('number of elements in the list')\n",
    "plt.ylabel('run time, sec')\n",
    "plt.show()\n",
    "\n",
    "plt.errorbar(n,x,std)\n",
    "plt.xscale('log')\n",
    "plt.xlabel('log(number of elements in the list)')\n",
    "plt.ylabel('run time, sec')\n",
    "plt.show()"
   ]
  },
  {
   "cell_type": "markdown",
   "metadata": {
    "slideshow": {
     "slide_type": "slide"
    }
   },
   "source": [
    "#### Binary tree and divide-and-conquer algorithms\n",
    "\n",
    "<img src=\"_static/img/binary.png\" style=\"width:600px;\">"
   ]
  },
  {
   "cell_type": "markdown",
   "metadata": {
    "slideshow": {
     "slide_type": "slide"
    }
   },
   "source": [
    "### Big-O notation\n",
    "\n",
    "Useful way to label the complexity of an algorithm, where $ n $ is the size of the input or other dimension of the problem\n",
    "\n",
    "$$\n",
    "f(n)=\\mathcal{O}\\big(g(n)\\big) \\Leftrightarrow\n",
    "$$\n",
    "\n",
    "$$\n",
    "\\exists M>0 \\text{ and } N \\text{ such than } |f(n)| < M |g(n)|  \\text{ for all } n>N,\n",
    "$$\n",
    "\n",
    "Thus, functions $ f(n) $ and $ g(n) $ grow on the same *order*"
   ]
  },
  {
   "cell_type": "markdown",
   "metadata": {
    "slideshow": {
     "slide_type": "slide"
    }
   },
   "source": [
    "### Focus on the worst case\n",
    "\n",
    "In measuring solution time we may distinguish performance in\n",
    "\n",
    "- best (easiest to solve) case  \n",
    "- average case  \n",
    "- worst case ($ \\leftarrow $ the focus of the theory!)  \n",
    "\n",
    "\n",
    "Constants and lower terms are ignored because we are only interested in *order* or growth"
   ]
  },
  {
   "cell_type": "markdown",
   "metadata": {
    "slideshow": {
     "slide_type": "slide"
    }
   },
   "source": [
    "### Classes of algorithm complexity\n",
    "\n",
    "- $ \\mathcal{O}(1) $ constant time  \n",
    "- $ \\mathcal{O}(\\log_{2}(n)) $ logarithmic time  \n",
    "- $ \\mathcal{O}(n) $ linear time  \n",
    "- $ \\mathcal{O}(n \\log_{2}(n)) $ quasi-linear time  \n",
    "- $ \\mathcal{O}(n^{k}), k>1 $ quadratic, cubic, etc. **polinomial** time\n",
    "  $ \\uparrow $ **Tractable**  \n",
    "- $ \\mathcal{O}(2^{n}) $ exponential time $ \\downarrow $\n",
    "  **Curse of dimensionality**  \n",
    "- $ \\mathcal{O}(n!) $ factorial time  "
   ]
  },
  {
   "cell_type": "markdown",
   "metadata": {
    "slideshow": {
     "slide_type": "slide"
    }
   },
   "source": [
    "#### Classes of algorithm complexity\n",
    "\n",
    "<img src=\"_static/img/bigO.png\" style=\"width:600px;\">"
   ]
  },
  {
   "cell_type": "markdown",
   "metadata": {
    "slideshow": {
     "slide_type": "slide"
    }
   },
   "source": [
    "#### How many operations as function of input size?\n",
    "\n",
    "- Parity: Just need to check the lowest bit, does not depend on input size $ \\Rightarrow \\mathcal{O}(1) $  \n",
    "- Maximum element: Need to loop through elements once: $ \\Rightarrow \\mathcal{O}(n) $  \n",
    "- Binary search: Divide the problem in 2 each step $ \\Rightarrow \\mathcal{O}(\\log(n)) $  \n",
    "- Examples of $ \\mathcal{O}(2^n) $ or more?  "
   ]
  },
  {
   "cell_type": "markdown",
   "metadata": {
    "slideshow": {
     "slide_type": "slide"
    }
   },
   "source": [
    "#### Allocation of discrete good\n",
    "\n",
    "**Problem**\n",
    "\n",
    "Maximize welfare $ W(x_1,x_2,\\dots,x_n) $ subject to\n",
    "$ \\sum_{i=1}^{n}x_i = A $ where $ A $ is *discrete* good that is\n",
    "only divisible in steps of $ \\Lambda $.\n",
    "\n",
    "Let $ M=A/\\Lambda \\in \\mathbb{N} $. Let\n",
    "$ p_i \\in \\{0,1,\\dots,M\\} $ such that $ \\sum_{i=1}^{n}p_i = M $.\n",
    "\n",
    "Then the problem is equivalent to maximize\n",
    "$ W(\\Lambda p_1,\\Lambda p_2,\\dots,\\Lambda p_n) $ subject to above.\n",
    "\n",
    "$ (p_1,p_2,\\dots,p_n) $ is **composition** of number $ M $ into\n",
    "$ n $ parts."
   ]
  },
  {
   "cell_type": "code",
   "execution_count": 30,
   "metadata": {
    "hide-output": false,
    "slideshow": {
     "slide_type": "slide"
    }
   },
   "outputs": [
    {
     "name": "stdout",
     "output_type": "stream",
     "text": [
      "Total number of compositions is 165\n",
      "  0: [0, 0, 0, 8]\n",
      "  1: [0, 0, 1, 7]\n",
      "  2: [0, 0, 2, 6]\n",
      "  3: [0, 0, 3, 5]\n",
      "  4: [0, 0, 4, 4]\n",
      "  5: [0, 0, 5, 3]\n",
      "  6: [0, 0, 6, 2]\n",
      "  7: [0, 0, 7, 1]\n",
      "  8: [0, 0, 8, 0]\n",
      "  9: [0, 1, 0, 7]\n",
      " 10: [0, 1, 1, 6]\n",
      " 11: [0, 1, 2, 5]\n",
      " 12: [0, 1, 3, 4]\n",
      " 13: [0, 1, 4, 3]\n",
      " 14: [0, 1, 5, 2]\n",
      " 15: [0, 1, 6, 1]\n",
      " 16: [0, 1, 7, 0]\n",
      " 17: [0, 2, 0, 6]\n",
      " 18: [0, 2, 1, 5]\n",
      " 19: [0, 2, 2, 4]\n",
      " 20: [0, 2, 3, 3]\n",
      " 21: [0, 2, 4, 2]\n",
      " 22: [0, 2, 5, 1]\n",
      " 23: [0, 2, 6, 0]\n",
      " 24: [0, 3, 0, 5]\n",
      " 25: [0, 3, 1, 4]\n",
      " 26: [0, 3, 2, 3]\n",
      " 27: [0, 3, 3, 2]\n",
      " 28: [0, 3, 4, 1]\n",
      " 29: [0, 3, 5, 0]\n",
      " 30: [0, 4, 0, 4]\n",
      " 31: [0, 4, 1, 3]\n",
      " 32: [0, 4, 2, 2]\n",
      " 33: [0, 4, 3, 1]\n",
      " 34: [0, 4, 4, 0]\n",
      " 35: [0, 5, 0, 3]\n",
      " 36: [0, 5, 1, 2]\n",
      " 37: [0, 5, 2, 1]\n",
      " 38: [0, 5, 3, 0]\n",
      " 39: [0, 6, 0, 2]\n",
      " 40: [0, 6, 1, 1]\n",
      " 41: [0, 6, 2, 0]\n",
      " 42: [0, 7, 0, 1]\n",
      " 43: [0, 7, 1, 0]\n",
      " 44: [0, 8, 0, 0]\n",
      " 45: [1, 0, 0, 7]\n",
      " 46: [1, 0, 1, 6]\n",
      " 47: [1, 0, 2, 5]\n",
      " 48: [1, 0, 3, 4]\n",
      " 49: [1, 0, 4, 3]\n",
      " 50: [1, 0, 5, 2]\n",
      " 51: [1, 0, 6, 1]\n",
      " 52: [1, 0, 7, 0]\n",
      " 53: [1, 1, 0, 6]\n",
      " 54: [1, 1, 1, 5]\n",
      " 55: [1, 1, 2, 4]\n",
      " 56: [1, 1, 3, 3]\n",
      " 57: [1, 1, 4, 2]\n",
      " 58: [1, 1, 5, 1]\n",
      " 59: [1, 1, 6, 0]\n",
      " 60: [1, 2, 0, 5]\n",
      " 61: [1, 2, 1, 4]\n",
      " 62: [1, 2, 2, 3]\n",
      " 63: [1, 2, 3, 2]\n",
      " 64: [1, 2, 4, 1]\n",
      " 65: [1, 2, 5, 0]\n",
      " 66: [1, 3, 0, 4]\n",
      " 67: [1, 3, 1, 3]\n",
      " 68: [1, 3, 2, 2]\n",
      " 69: [1, 3, 3, 1]\n",
      " 70: [1, 3, 4, 0]\n",
      " 71: [1, 4, 0, 3]\n",
      " 72: [1, 4, 1, 2]\n",
      " 73: [1, 4, 2, 1]\n",
      " 74: [1, 4, 3, 0]\n",
      " 75: [1, 5, 0, 2]\n",
      " 76: [1, 5, 1, 1]\n",
      " 77: [1, 5, 2, 0]\n",
      " 78: [1, 6, 0, 1]\n",
      " 79: [1, 6, 1, 0]\n",
      " 80: [1, 7, 0, 0]\n",
      " 81: [2, 0, 0, 6]\n",
      " 82: [2, 0, 1, 5]\n",
      " 83: [2, 0, 2, 4]\n",
      " 84: [2, 0, 3, 3]\n",
      " 85: [2, 0, 4, 2]\n",
      " 86: [2, 0, 5, 1]\n",
      " 87: [2, 0, 6, 0]\n",
      " 88: [2, 1, 0, 5]\n",
      " 89: [2, 1, 1, 4]\n",
      " 90: [2, 1, 2, 3]\n",
      " 91: [2, 1, 3, 2]\n",
      " 92: [2, 1, 4, 1]\n",
      " 93: [2, 1, 5, 0]\n",
      " 94: [2, 2, 0, 4]\n",
      " 95: [2, 2, 1, 3]\n",
      " 96: [2, 2, 2, 2]\n",
      " 97: [2, 2, 3, 1]\n",
      " 98: [2, 2, 4, 0]\n",
      " 99: [2, 3, 0, 3]\n",
      "100: [2, 3, 1, 2]\n",
      "101: [2, 3, 2, 1]\n",
      "102: [2, 3, 3, 0]\n",
      "103: [2, 4, 0, 2]\n",
      "104: [2, 4, 1, 1]\n",
      "105: [2, 4, 2, 0]\n",
      "106: [2, 5, 0, 1]\n",
      "107: [2, 5, 1, 0]\n",
      "108: [2, 6, 0, 0]\n",
      "109: [3, 0, 0, 5]\n",
      "110: [3, 0, 1, 4]\n",
      "111: [3, 0, 2, 3]\n",
      "112: [3, 0, 3, 2]\n",
      "113: [3, 0, 4, 1]\n",
      "114: [3, 0, 5, 0]\n",
      "115: [3, 1, 0, 4]\n",
      "116: [3, 1, 1, 3]\n",
      "117: [3, 1, 2, 2]\n",
      "118: [3, 1, 3, 1]\n",
      "119: [3, 1, 4, 0]\n",
      "120: [3, 2, 0, 3]\n",
      "121: [3, 2, 1, 2]\n",
      "122: [3, 2, 2, 1]\n",
      "123: [3, 2, 3, 0]\n",
      "124: [3, 3, 0, 2]\n",
      "125: [3, 3, 1, 1]\n",
      "126: [3, 3, 2, 0]\n",
      "127: [3, 4, 0, 1]\n",
      "128: [3, 4, 1, 0]\n",
      "129: [3, 5, 0, 0]\n",
      "130: [4, 0, 0, 4]\n",
      "131: [4, 0, 1, 3]\n",
      "132: [4, 0, 2, 2]\n",
      "133: [4, 0, 3, 1]\n",
      "134: [4, 0, 4, 0]\n",
      "135: [4, 1, 0, 3]\n",
      "136: [4, 1, 1, 2]\n",
      "137: [4, 1, 2, 1]\n",
      "138: [4, 1, 3, 0]\n",
      "139: [4, 2, 0, 2]\n",
      "140: [4, 2, 1, 1]\n",
      "141: [4, 2, 2, 0]\n",
      "142: [4, 3, 0, 1]\n",
      "143: [4, 3, 1, 0]\n",
      "144: [4, 4, 0, 0]\n",
      "145: [5, 0, 0, 3]\n",
      "146: [5, 0, 1, 2]\n",
      "147: [5, 0, 2, 1]\n",
      "148: [5, 0, 3, 0]\n",
      "149: [5, 1, 0, 2]\n",
      "150: [5, 1, 1, 1]\n",
      "151: [5, 1, 2, 0]\n",
      "152: [5, 2, 0, 1]\n",
      "153: [5, 2, 1, 0]\n",
      "154: [5, 3, 0, 0]\n",
      "155: [6, 0, 0, 2]\n",
      "156: [6, 0, 1, 1]\n",
      "157: [6, 0, 2, 0]\n",
      "158: [6, 1, 0, 1]\n",
      "159: [6, 1, 1, 0]\n",
      "160: [6, 2, 0, 0]\n",
      "161: [7, 0, 0, 1]\n",
      "162: [7, 0, 1, 0]\n",
      "163: [7, 1, 0, 0]\n",
      "164: [8, 0, 0, 0]\n"
     ]
    }
   ],
   "source": [
    "import scipy.special\n",
    "n, M = 4, 8\n",
    "total = scipy.special.comb(M+n-1,n-1) # M+n-1 choose n-1\n",
    "print(\"Total number of compositions is %d\"%total)\n",
    "\n",
    "for i,k in enumerate(compositions(M,n)):\n",
    "    print('%3d'%i,end=\": \")\n",
    "    print(k)"
   ]
  },
  {
   "cell_type": "code",
   "execution_count": 31,
   "metadata": {
    "hide-output": false,
    "slideshow": {
     "slide_type": "slide"
    }
   },
   "outputs": [
    {
     "name": "stdout",
     "output_type": "stream",
     "text": [
      "35.3 µs ± 18.5 µs per loop (mean ± std. dev. of 10 runs, 2 loops each)\n",
      "The slowest run took 7.17 times longer than the fastest. This could mean that an intermediate result is being cached.\n",
      "280 µs ± 213 µs per loop (mean ± std. dev. of 10 runs, 2 loops each)\n",
      "The slowest run took 5.21 times longer than the fastest. This could mean that an intermediate result is being cached.\n",
      "2.04 ms ± 1.17 ms per loop (mean ± std. dev. of 10 runs, 2 loops each)\n",
      "11.8 ms ± 1.07 ms per loop (mean ± std. dev. of 10 runs, 2 loops each)\n",
      "61.1 ms ± 13.4 ms per loop (mean ± std. dev. of 10 runs, 2 loops each)\n",
      "217 ms ± 40.2 ms per loop (mean ± std. dev. of 10 runs, 2 loops each)\n",
      "818 ms ± 135 ms per loop (mean ± std. dev. of 10 runs, 2 loops each)\n",
      "2.32 s ± 48.3 ms per loop (mean ± std. dev. of 10 runs, 2 loops each)\n",
      "8.15 s ± 2.33 s per loop (mean ± std. dev. of 10 runs, 2 loops each)\n",
      "26.9 s ± 3.33 s per loop (mean ± std. dev. of 10 runs, 2 loops each)\n"
     ]
    },
    {
     "data": {
      "image/png": "[encoded data removed]",
      "text/plain": [
       "<Figure size 864x576 with 1 Axes>"
      ]
     },
     "metadata": {
      "needs_background": "light"
     },
     "output_type": "display_data"
    },
    {
     "data": {
      "image/png": "[encoded data removed]",
      "text/plain": [
       "<Figure size 864x576 with 1 Axes>"
      ]
     },
     "metadata": {
      "needs_background": "light"
     },
     "output_type": "display_data"
    }
   ],
   "source": [
    "N = 10  # number of points\n",
    "kk = lambda i: 2+i  # step formula\n",
    "M = 20  # quantity of indivisible good in units of lambda\n",
    "\n",
    "n,x,std = [0]*N,[0]*N,[0]*N   # initialize lists\n",
    "for i in range(N):\n",
    "    n[i] = kk(i)  # number of list elements\n",
    "    t = %timeit -n2 -r10 -o for c in compositions(M,n[i]): pass\n",
    "    x[i] = t.average\n",
    "    std[i] = t.stdev\n",
    "\n",
    "plt.errorbar(n,x,std)\n",
    "plt.xlabel('Number of elements in compositions')\n",
    "plt.ylabel('run time, sec')\n",
    "plt.show()\n",
    "\n",
    "plt.errorbar(n,x,std)\n",
    "plt.yscale('log')\n",
    "plt.xlabel('Number of elements in compositions')\n",
    "plt.ylabel('log(run time)')\n",
    "plt.show()"
   ]
  },
  {
   "cell_type": "markdown",
   "metadata": {
    "slideshow": {
     "slide_type": "slide"
    }
   },
   "source": [
    "#### Other exponential algorithms\n",
    "\n",
    "- Many board games (checkers, chess, shogi, go) in n-by-n generalizations  \n",
    "- Traveling salesman problem (TSP)  \n",
    "- Many problems in economics are subject to “curse of dimensionality”  \n",
    "\n",
    "\n",
    "**Curse of dimensionality** = exponential time in solution algorithms"
   ]
  },
  {
   "cell_type": "markdown",
   "metadata": {
    "slideshow": {
     "slide_type": "slide"
    }
   },
   "source": [
    "#### What to do with heavy to compute models?\n",
    "\n",
    "1. Design of better solution algorithms  \n",
    "1. Analyze special classes of problems + rely on problem structure  \n",
    "1. Speed up the code (low level language, compilation to machine code)  \n",
    "1. Parallelize the computations  \n",
    "1. Bound the problem to maximize model usefulness while keeping it tractable  \n",
    "1. Wait for innovations in computing technology  "
   ]
  },
  {
   "cell_type": "markdown",
   "metadata": {
    "slideshow": {
     "slide_type": "slide"
    }
   },
   "source": [
    "#### Classes of computational complexity\n",
    "\n",
    "Thinking of all problems there are:\n",
    "\n",
    "- **P** can be solved in polynomial time  \n",
    "- **NP** solution can checked in polynomial time, even if requires *exponential* solution algorithm  \n",
    "- **NP-hard** as complex as *any* NP problem (including all exponential and combinatorial problems)  \n",
    "- **NP-complete** both NP and NP-hard (tied via reductions)  \n",
    "\n",
    "\n",
    "NP stands for non-deterministic polynomial time $ \\leftrightarrow $ *‘magic’ guess* algorithm"
   ]
  },
  {
   "cell_type": "markdown",
   "metadata": {
    "slideshow": {
     "slide_type": "slide"
    }
   },
   "source": [
    "#### P vs. NP\n",
    "\n",
    "Unresolved question of whether **P = NP** or **P** $ \\ne $ **NP** (\\$1 mln. prize by Clay Mathematics Institute)\n",
    "\n",
    "<img src=\"_static/img/complexity_classes.png\" style=\"width:500px;\">"
   ]
  },
  {
   "cell_type": "markdown",
   "metadata": {
    "slideshow": {
     "slide_type": "slide"
    }
   },
   "source": [
    "### Further learning resources\n",
    "\n",
    "- Profiling python code\n",
    "  [https://docs.python.org/3/library/profile.html](https://docs.python.org/3/library/profile.html)  \n",
    "- Complexity classes and P vs. NP\n",
    "  - [https://en.wikipedia.org/wiki/P_versus_NP_problem](https://en.wikipedia.org/wiki/P_versus_NP_problem)\n",
    "  - [https://cs.stackexchange.com/questions/9556/what-is-the-definition-of-p-np-np-complete-and-np-hard](https://cs.stackexchange.com/questions/9556/what-is-the-definition-of-p-np-np-complete-and-np-hard)\n",
    "  - [https://www.youtube.com/watch?v=YX40hbAHx3s](https://www.youtube.com/watch?v=YX40hbAHx3s)  \n",
    "- Lecture on algorithm complexity by Erik Demaine, MIT (50 min)\n",
    "  [https://www.youtube.com/watch?v=moPtwq_cVH8](https://www.youtube.com/watch?v=moPtwq_cVH8)  \n",
    "- Big-O cheet sheet\n",
    "  [https://www.bigocheatsheet.com/](https://www.bigocheatsheet.com/)  "
   ]
  }
 ],
 "metadata": {
  "celltoolbar": "Slideshow",
  "date": 1597203913.766665,
  "filename": "09_algorithms.rst",
  "kernelspec": {
   "display_name": "Python 3",
   "language": "python",
   "name": "python3"
  },
  "language_info": {
   "codemirror_mode": {
    "name": "ipython",
    "version": 3
   },
   "file_extension": ".py",
   "mimetype": "text/x-python",
   "name": "python",
   "nbconvert_exporter": "python",
   "pygments_lexer": "ipython3",
   "version": "3.7.6"
  },
  "title": "Foundations of Computational Economics #9"
 },
 "nbformat": 4,
 "nbformat_minor": 4
}
