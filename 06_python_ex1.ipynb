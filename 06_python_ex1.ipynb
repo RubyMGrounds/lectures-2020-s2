{
 "cells": [
  {
   "cell_type": "markdown",
   "metadata": {
    "slideshow": {
     "slide_type": "slide"
    }
   },
   "source": [
    "# Foundations of Computational Economics #6\n",
    "\n",
    "by Fedor Iskhakov, ANU\n",
    "\n",
    "<img src=\"_static/img/dag3logo.png\" style=\"width:256px;\">"
   ]
  },
  {
   "cell_type": "markdown",
   "metadata": {
    "slideshow": {
     "slide_type": "fragment"
    }
   },
   "source": [
    "## Two simple examples\n",
    "\n",
    "<img src=\"_static/img/lab.png\" style=\"width:64px;\">"
   ]
  },
  {
   "cell_type": "markdown",
   "metadata": {
    "slideshow": {
     "slide_type": "slide"
    }
   },
   "source": [
    "### Example 1\n",
    "\n",
    "Code up a function to convert $ (i,j) $ index in a two-dimensional array\n",
    "into a single index $ k $ which swipes the matrix by column.\n",
    "Also code up the inverse of this function."
   ]
  },
  {
   "cell_type": "code",
   "execution_count": 5,
   "metadata": {
    "hide-output": false,
    "slideshow": {
     "slide_type": "slide"
    }
   },
   "outputs": [
    {
     "name": "stdout",
     "output_type": "stream",
     "text": [
      "(0,0)---->-8 ---->(0,0)\n",
      "(0,1)---->0 ---->(0,1)\n",
      "(0,2)---->8 ---->(0,2)\n",
      "(0,3)---->16 ---->(0,3)\n",
      "(0,4)---->24 ---->(0,4)\n",
      "(0,5)---->32 ---->(0,5)\n",
      "(0,6)---->40 ---->(0,6)\n",
      "(0,7)---->48 ---->(0,7)\n",
      "(0,8)---->56 ---->(0,8)\n",
      "(0,9)---->64 ---->(0,9)\n",
      "(1,0)---->-7 ---->(1,0)\n",
      "(1,1)---->1 ---->(1,1)\n",
      "(1,2)---->9 ---->(1,2)\n",
      "(1,3)---->17 ---->(1,3)\n",
      "(1,4)---->25 ---->(1,4)\n",
      "(1,5)---->33 ---->(1,5)\n",
      "(1,6)---->41 ---->(1,6)\n",
      "(1,7)---->49 ---->(1,7)\n",
      "(1,8)---->57 ---->(1,8)\n",
      "(1,9)---->65 ---->(1,9)\n",
      "(2,0)---->-6 ---->(2,0)\n",
      "(2,1)---->2 ---->(2,1)\n",
      "(2,2)---->10 ---->(2,2)\n",
      "(2,3)---->18 ---->(2,3)\n",
      "(2,4)---->26 ---->(2,4)\n",
      "(2,5)---->34 ---->(2,5)\n",
      "(2,6)---->42 ---->(2,6)\n",
      "(2,7)---->50 ---->(2,7)\n",
      "(2,8)---->58 ---->(2,8)\n",
      "(2,9)---->66 ---->(2,9)\n",
      "(3,0)---->-5 ---->(3,0)\n",
      "(3,1)---->3 ---->(3,1)\n",
      "(3,2)---->11 ---->(3,2)\n",
      "(3,3)---->19 ---->(3,3)\n",
      "(3,4)---->27 ---->(3,4)\n",
      "(3,5)---->35 ---->(3,5)\n",
      "(3,6)---->43 ---->(3,6)\n",
      "(3,7)---->51 ---->(3,7)\n",
      "(3,8)---->59 ---->(3,8)\n",
      "(3,9)---->67 ---->(3,9)\n",
      "(4,0)---->-4 ---->(4,0)\n",
      "(4,1)---->4 ---->(4,1)\n",
      "(4,2)---->12 ---->(4,2)\n",
      "(4,3)---->20 ---->(4,3)\n",
      "(4,4)---->28 ---->(4,4)\n",
      "(4,5)---->36 ---->(4,5)\n",
      "(4,6)---->44 ---->(4,6)\n",
      "(4,7)---->52 ---->(4,7)\n",
      "(4,8)---->60 ---->(4,8)\n",
      "(4,9)---->68 ---->(4,9)\n",
      "(5,0)---->-3 ---->(5,0)\n",
      "(5,1)---->5 ---->(5,1)\n",
      "(5,2)---->13 ---->(5,2)\n",
      "(5,3)---->21 ---->(5,3)\n",
      "(5,4)---->29 ---->(5,4)\n",
      "(5,5)---->37 ---->(5,5)\n",
      "(5,6)---->45 ---->(5,6)\n",
      "(5,7)---->53 ---->(5,7)\n",
      "(5,8)---->61 ---->(5,8)\n",
      "(5,9)---->69 ---->(5,9)\n",
      "(6,0)---->-2 ---->(6,0)\n",
      "(6,1)---->6 ---->(6,1)\n",
      "(6,2)---->14 ---->(6,2)\n",
      "(6,3)---->22 ---->(6,3)\n",
      "(6,4)---->30 ---->(6,4)\n",
      "(6,5)---->38 ---->(6,5)\n",
      "(6,6)---->46 ---->(6,6)\n",
      "(6,7)---->54 ---->(6,7)\n",
      "(6,8)---->62 ---->(6,8)\n",
      "(6,9)---->70 ---->(6,9)\n",
      "(7,0)---->-1 ---->(7,0)\n",
      "(7,1)---->7 ---->(7,1)\n",
      "(7,2)---->15 ---->(7,2)\n",
      "(7,3)---->23 ---->(7,3)\n",
      "(7,4)---->31 ---->(7,4)\n",
      "(7,5)---->39 ---->(7,5)\n",
      "(7,6)---->47 ---->(7,6)\n",
      "(7,7)---->55 ---->(7,7)\n",
      "(7,8)---->63 ---->(7,8)\n",
      "(7,9)---->71 ---->(7,9)\n"
     ]
    }
   ],
   "source": [
    "# code here\n",
    "def k(i,j,m):\n",
    "    \n",
    "    '''converts double index [i,j] into single k (by column)\n",
    "    Third input m is the number of rows in the array\n",
    "    \n",
    "    '''\n",
    "    return m * (j-1) + i \n",
    "    \n",
    "\n",
    "def ik(k,m):\n",
    "    '''Inverse of k(i,j,m)'''\n",
    "\n",
    "    j = k//m + 1\n",
    "    i = k%m\n",
    "    return i,j\n",
    "\n",
    "m=8\n",
    "for i in range(m):\n",
    "    for j in range(10):\n",
    "        k0 =k(i,j,m)\n",
    "        i1,j1 = ik(k0,m)\n",
    "        print('(%d,%d)---->%d ---->(%d,%d)'%(i,j,k0,i1,j1))\n",
    "\n",
    "\n",
    "\n",
    "\n",
    "\n"
   ]
  },
  {
   "cell_type": "code",
   "execution_count": 2,
   "metadata": {
    "hide-output": false,
    "slideshow": {
     "slide_type": "slide"
    }
   },
   "outputs": [
    {
     "name": "stdout",
     "output_type": "stream",
     "text": [
      "(0,0) --> 0 --> (0,0)\n",
      "(0,1) --> 5 --> (0,1)\n",
      "(0,2) --> 10 --> (0,2)\n",
      "(0,3) --> 15 --> (0,3)\n",
      "(0,4) --> 20 --> (0,4)\n",
      "(0,5) --> 25 --> (0,5)\n",
      "(0,6) --> 30 --> (0,6)\n",
      "(0,7) --> 35 --> (0,7)\n",
      "(0,8) --> 40 --> (0,8)\n",
      "(0,9) --> 45 --> (0,9)\n",
      "(1,0) --> 1 --> (1,0)\n",
      "(1,1) --> 6 --> (1,1)\n",
      "(1,2) --> 11 --> (1,2)\n",
      "(1,3) --> 16 --> (1,3)\n",
      "(1,4) --> 21 --> (1,4)\n",
      "(1,5) --> 26 --> (1,5)\n",
      "(1,6) --> 31 --> (1,6)\n",
      "(1,7) --> 36 --> (1,7)\n",
      "(1,8) --> 41 --> (1,8)\n",
      "(1,9) --> 46 --> (1,9)\n",
      "(2,0) --> 2 --> (2,0)\n",
      "(2,1) --> 7 --> (2,1)\n",
      "(2,2) --> 12 --> (2,2)\n",
      "(2,3) --> 17 --> (2,3)\n",
      "(2,4) --> 22 --> (2,4)\n",
      "(2,5) --> 27 --> (2,5)\n",
      "(2,6) --> 32 --> (2,6)\n",
      "(2,7) --> 37 --> (2,7)\n",
      "(2,8) --> 42 --> (2,8)\n",
      "(2,9) --> 47 --> (2,9)\n",
      "(3,0) --> 3 --> (3,0)\n",
      "(3,1) --> 8 --> (3,1)\n",
      "(3,2) --> 13 --> (3,2)\n",
      "(3,3) --> 18 --> (3,3)\n",
      "(3,4) --> 23 --> (3,4)\n",
      "(3,5) --> 28 --> (3,5)\n",
      "(3,6) --> 33 --> (3,6)\n",
      "(3,7) --> 38 --> (3,7)\n",
      "(3,8) --> 43 --> (3,8)\n",
      "(3,9) --> 48 --> (3,9)\n",
      "(4,0) --> 4 --> (4,0)\n",
      "(4,1) --> 9 --> (4,1)\n",
      "(4,2) --> 14 --> (4,2)\n",
      "(4,3) --> 19 --> (4,3)\n",
      "(4,4) --> 24 --> (4,4)\n",
      "(4,5) --> 29 --> (4,5)\n",
      "(4,6) --> 34 --> (4,6)\n",
      "(4,7) --> 39 --> (4,7)\n",
      "(4,8) --> 44 --> (4,8)\n",
      "(4,9) --> 49 --> (4,9)\n"
     ]
    }
   ],
   "source": [
    "def k(i,j,m,base0=True):\n",
    "    '''Convert (i,j) indexes in a two-dimensional array\n",
    "    with m rows into a single index computed column-wise\n",
    "    '''\n",
    "    if base0:\n",
    "        return j*m + i\n",
    "    else:\n",
    "        return (j-1)*m + i\n",
    "\n",
    "def ik(k,m,base0=True):\n",
    "    '''Convert k index in a two-dimensional array\n",
    "    with m rows into a pair of (i,j) indexes\n",
    "    '''\n",
    "    if base0:\n",
    "        j = k//m\n",
    "        i = k%m\n",
    "    else:\n",
    "        j = k//m + 1\n",
    "        i = k%m\n",
    "    return i,j\n",
    "\n",
    "m=5\n",
    "for i in range(5):\n",
    "    for j in range(10):\n",
    "        k0 = k(i,j,m)\n",
    "        i1,j1 = ik(k0,m)\n",
    "        print('(%d,%d) --> %d --> (%d,%d)'%(i,j,k0,i1,j1))"
   ]
  },
  {
   "cell_type": "markdown",
   "metadata": {
    "slideshow": {
     "slide_type": "slide"
    }
   },
   "source": [
    "### Example 2\n",
    "\n",
    "Write a function to converter a decimal number into a given base. Return the result as string."
   ]
  },
  {
   "cell_type": "code",
   "execution_count": null,
   "metadata": {
    "hide-output": false,
    "slideshow": {
     "slide_type": "slide"
    }
   },
   "outputs": [],
   "source": [
    "# code here"
   ]
  },
  {
   "cell_type": "code",
   "execution_count": null,
   "metadata": {
    "hide-output": false,
    "slideshow": {
     "slide_type": "slide"
    }
   },
   "outputs": [],
   "source": [
    "def baseN(x,base=2):\n",
    "    '''Converts given number to given base'''\n",
    "    digits = [str(i) for i in range(10)] + [chr(i) for i in range(97,123)]\n",
    "    assert 2 <= base <= len(digits),'Number base must be between 2 and %d'%(len(digits))\n",
    "    if x == 0:\n",
    "        return '0'\n",
    "    out = []\n",
    "    while x>0:\n",
    "        i = x%base\n",
    "        out.append(digits[i])\n",
    "        x = x//base\n",
    "    return ''.join(out[::-1])\n",
    "\n",
    "for n in [3,8,35,574,1023523,9999]:\n",
    "    for b in range(36,1,-4):\n",
    "        print('%d in base %d is %s' % (n,b,baseN(n,b)))\n",
    "    print()"
   ]
  }
 ],
 "metadata": {
  "celltoolbar": "Slideshow",
  "date": 1597203913.637104,
  "filename": "06_python_ex1.rst",
  "kernelspec": {
   "display_name": "Python 3",
   "language": "python",
   "name": "python3"
  },
  "language_info": {
   "codemirror_mode": {
    "name": "ipython",
    "version": 3
   },
   "file_extension": ".py",
   "mimetype": "text/x-python",
   "name": "python",
   "nbconvert_exporter": "python",
   "pygments_lexer": "ipython3",
   "version": "3.7.6"
  },
  "title": "Foundations of Computational Economics #6"
 },
 "nbformat": 4,
 "nbformat_minor": 4
}
