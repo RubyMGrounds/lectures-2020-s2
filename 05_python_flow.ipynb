{
 "cells": [
  {
   "cell_type": "markdown",
   "metadata": {
    "slideshow": {
     "slide_type": "slide"
    }
   },
   "source": [
    "# Foundations of Computational Economics #5\n",
    "\n",
    "by Fedor Iskhakov, ANU\n",
    "\n",
    "<img src=\"_static/img/dag3logo.png\" style=\"width:256px;\">"
   ]
  },
  {
   "cell_type": "markdown",
   "metadata": {
    "slideshow": {
     "slide_type": "fragment"
    }
   },
   "source": [
    "## Python essentials: control flow and functions\n",
    "\n",
    "<img src=\"_static/img/lecture.png\" style=\"width:64px;\">"
   ]
  },
  {
   "cell_type": "markdown",
   "metadata": {
    "slideshow": {
     "slide_type": "slide"
    }
   },
   "source": [
    "### Plan for the lecture\n",
    "\n",
    "1. Flow control  \n",
    "1. User defined functions  \n",
    "\n",
    "\n",
    "📖 Kevin Sheppard “Introduction to Python for Econometrics, Statistics\n",
    "and Data Analysis.” *Chapters: 3, 5, 10, 11, 13, 18, 22*"
   ]
  },
  {
   "cell_type": "markdown",
   "metadata": {
    "slideshow": {
     "slide_type": "slide"
    }
   },
   "source": [
    "### Flow control: conditional expression and loops\n",
    "\n",
    "Branch the program depending on a condition\n",
    "\n",
    "- if  \n",
    "- if .. else  \n",
    "- if .. elif  \n",
    "- if .. elif .. else  \n",
    "\n",
    "\n",
    "**Remember about indentation!**- Should be 4 spaces according to PEP8 - Better not use Tab"
   ]
  },
  {
   "cell_type": "markdown",
   "metadata": {},
   "source": [
    "Rules that design in which order different statements in the program are executed. \n",
    "Remember, in python, loops in code are defined with indentation. "
   ]
  },
  {
   "cell_type": "markdown",
   "metadata": {
    "slideshow": {
     "slide_type": "slide"
    }
   },
   "source": [
    "#### Examples of if-then-else"
   ]
  },
  {
   "cell_type": "code",
   "execution_count": 2,
   "metadata": {
    "hide-output": false,
    "slideshow": {
     "slide_type": "fragment"
    }
   },
   "outputs": [
    {
     "name": "stdout",
     "output_type": "stream",
     "text": [
      "Condition 3\n"
     ]
    }
   ],
   "source": [
    "x = 2\n",
    "y = 2.0\n",
    "z = [1, 2.1, 3.0, 0.0]\n",
    "\n",
    "if y>2 and z[-1] >= 0.0:\n",
    "    print(\"Condition 1\")\n",
    "elif y<2:\n",
    "    print(\"Condition 2\")\n",
    "else:\n",
    "    print(\"Condition 3\")"
   ]
  },
  {
   "cell_type": "code",
   "execution_count": 3,
   "metadata": {
    "hide-output": false,
    "slideshow": {
     "slide_type": "slide"
    }
   },
   "outputs": [
    {
     "name": "stdout",
     "output_type": "stream",
     "text": [
      "Condition 2\n"
     ]
    }
   ],
   "source": [
    "x = True\n",
    "y = False\n",
    "\n",
    "if x and y:\n",
    "    print(\"Condition 1\")\n",
    "elif x and not y:\n",
    "    print(\"Condition 2\")\n",
    "elif not x and y:\n",
    "    print(\"Condition 3\")\n",
    "elif not x and not y:\n",
    "    print(\"Condition 4\")\n",
    "else:\n",
    "    print(\"Condition 5\")"
   ]
  },
  {
   "cell_type": "markdown",
   "metadata": {
    "slideshow": {
     "slide_type": "slide"
    }
   },
   "source": [
    "#### Pass statement\n",
    "\n",
    "Do nothing, but have correct indent"
   ]
  },
  {
   "cell_type": "code",
   "execution_count": null,
   "metadata": {
    "hide-output": false,
    "slideshow": {
     "slide_type": "fragment"
    }
   },
   "outputs": [],
   "source": [
    "if True:\n",
    "    pass\n",
    "else:\n",
    "    print(\"check\")\n",
    "print(\"done\")"
   ]
  },
  {
   "cell_type": "markdown",
   "metadata": {
    "slideshow": {
     "slide_type": "slide"
    }
   },
   "source": [
    "#### Ternary conditional operator"
   ]
  },
  {
   "cell_type": "code",
   "execution_count": 4,
   "metadata": {
    "hide-output": false,
    "slideshow": {
     "slide_type": "fragment"
    }
   },
   "outputs": [],
   "source": [
    "a, b, condition = 1, 3, True\n",
    "\n",
    "a if condition else b      # expression, not a statement\n",
    "\n",
    "c = a if condition else b  # therefore this is possible"
   ]
  },
  {
   "cell_type": "markdown",
   "metadata": {
    "slideshow": {
     "slide_type": "slide"
    }
   },
   "source": [
    "#### Flow control: loops\n",
    "\n",
    "- for  \n",
    "- while  \n",
    "- break  \n",
    "- continue  \n",
    "- for .. else, while .. else  \n",
    "\n",
    "\n",
    "**Remember about indent**- Should be 4 spaces according to PEP8 - Better not use Tab"
   ]
  },
  {
   "cell_type": "markdown",
   "metadata": {
    "slideshow": {
     "slide_type": "slide"
    }
   },
   "source": [
    "#### Examples of for"
   ]
  },
  {
   "cell_type": "code",
   "execution_count": 9,
   "metadata": {
    "hide-output": false,
    "slideshow": {
     "slide_type": "fragment"
    }
   },
   "outputs": [
    {
     "name": "stdout",
     "output_type": "stream",
     "text": [
      "A iteration 0\n",
      "A iteration 1\n",
      "A iteration 2\n",
      "A iteration 3\n",
      "A iteration 4\n",
      "A iteration 5\n",
      "\n",
      "B iteration 0\n",
      "B iteration 1\n",
      "B iteration 2\n",
      "B iteration 3\n",
      "B iteration 4\n"
     ]
    }
   ],
   "source": [
    "for i in [0,1,2,3,4,5]:\n",
    "    print(\"A iteration %d\" % i)\n",
    "print()\n",
    "\n",
    "for i in range(5):\n",
    "    print(\"B iteration %d\" % i)\n",
    "    # note that its not including 5, indexing always starts from 0, not including upper bound"
   ]
  },
  {
   "cell_type": "markdown",
   "metadata": {
    "slideshow": {
     "slide_type": "slide"
    }
   },
   "source": [
    "#### List comprehensions"
   ]
  },
  {
   "cell_type": "code",
   "execution_count": 10,
   "metadata": {
    "hide-output": false,
    "slideshow": {
     "slide_type": "fragment"
    }
   },
   "outputs": [
    {
     "data": {
      "text/plain": [
       "['item 0', 'item 3', 'item 6', 'item 9', 'item 12']"
      ]
     },
     "execution_count": 10,
     "metadata": {},
     "output_type": "execute_result"
    }
   ],
   "source": [
    "x = []\n",
    "for i in range(15):\n",
    "    if i%3==0:\n",
    "        x.append(\"item %d\"%i)\n",
    "x"
   ]
  },
  {
   "cell_type": "code",
   "execution_count": 11,
   "metadata": {
    "hide-output": false,
    "slideshow": {
     "slide_type": "fragment"
    }
   },
   "outputs": [
    {
     "data": {
      "text/plain": [
       "['item 0', 'item 3', 'item 6', 'item 9', 'item 12']"
      ]
     },
     "execution_count": 11,
     "metadata": {},
     "output_type": "execute_result"
    }
   ],
   "source": [
    "x = [\"item %d\"%i for i in range(15) if i%3==0]\n",
    "x"
   ]
  },
  {
   "cell_type": "markdown",
   "metadata": {
    "slideshow": {
     "slide_type": "slide"
    }
   },
   "source": [
    "#### Multiple indexes in list comprehensions"
   ]
  },
  {
   "cell_type": "code",
   "execution_count": 12,
   "metadata": {
    "hide-output": false,
    "slideshow": {
     "slide_type": "fragment"
    }
   },
   "outputs": [
    {
     "name": "stdout",
     "output_type": "stream",
     "text": [
      "i=0 j=a\n",
      "i=1 j=b\n",
      "i=2 j=c\n",
      "i=3 j=d\n"
     ]
    }
   ],
   "source": [
    "for i,j in zip(range(4),[\"a\",\"b\",\"c\",\"d\"]):\n",
    "    print(\"i=%d j=%s\"%(i,j))"
   ]
  },
  {
   "cell_type": "code",
   "execution_count": 13,
   "metadata": {
    "hide-output": false,
    "slideshow": {
     "slide_type": "fragment"
    }
   },
   "outputs": [
    {
     "data": {
      "text/plain": [
       "[1, 2, 4, 8, 16, 1, 3, 9, 27, 81, 1, 5, 25, 125, 625]"
      ]
     },
     "execution_count": 13,
     "metadata": {},
     "output_type": "execute_result"
    }
   ],
   "source": [
    "p= [x**y for x in  (2,3,5) for y in range(5)] #three power series\n",
    "p"
   ]
  },
  {
   "cell_type": "markdown",
   "metadata": {
    "slideshow": {
     "slide_type": "slide"
    }
   },
   "source": [
    "#### For .. else\n",
    "\n",
    "Very useful to check if for loop did not **break**"
   ]
  },
  {
   "cell_type": "code",
   "execution_count": 16,
   "metadata": {
    "hide-output": false,
    "slideshow": {
     "slide_type": "fragment"
    }
   },
   "outputs": [
    {
     "name": "stdout",
     "output_type": "stream",
     "text": [
      "loop complete with k=16 i=16\n"
     ]
    }
   ],
   "source": [
    "k=0\n",
    "for i in range(100): # from 0 to 99\n",
    "    if k>15:\n",
    "        break # takes us out of loop completely \n",
    "    if i%5==0:\n",
    "        k+=1\n",
    "else:\n",
    "    print(\"i went all the way up to %d\"%i) #only runs if loop completed\n",
    "print(\"loop complete with k=%d i=%d\"%(k,i))"
   ]
  },
  {
   "cell_type": "markdown",
   "metadata": {
    "slideshow": {
     "slide_type": "slide"
    }
   },
   "source": [
    "#### While .. break .. continue example\n",
    "\n",
    "**Sieve of Eratosthenes** to find prime numbers up to a certain value\n",
    "\n",
    "Algorithm:\n",
    "- initialize the list of primes with all integers\n",
    "- go through a list of divisors (have to be in the list of primes)\n",
    "- cross all candidates divisible by the considered divisor\n",
    "- stop when all divisors up to the boundary are considered\n",
    "\n",
    "Exercise: how can the algorithm be improved?"
   ]
  },
  {
   "cell_type": "code",
   "execution_count": 17,
   "metadata": {
    "hide-output": false,
    "scrolled": true,
    "slideshow": {
     "slide_type": "slide"
    }
   },
   "outputs": [
    {
     "name": "stdout",
     "output_type": "stream",
     "text": [
      "divisor 2: [1, 2, 3, 5, 7, 9, 11, 13, 15, 17, 19, 21, 23]\n",
      "divisor 3: [1, 2, 3, 5, 7, 11, 13, 17, 19, 23]\n",
      "divisor 5: [1, 2, 3, 5, 7, 11, 13, 17, 19, 23]\n",
      "divisor 7: [1, 2, 3, 5, 7, 11, 13, 17, 19, 23]\n",
      "divisor 11: [1, 2, 3, 5, 7, 11, 13, 17, 19, 23]\n",
      "divisor 13: [1, 2, 3, 5, 7, 11, 13, 17, 19, 23]\n",
      "divisor 17: [1, 2, 3, 5, 7, 11, 13, 17, 19, 23]\n",
      "divisor 19: [1, 2, 3, 5, 7, 11, 13, 17, 19, 23]\n",
      "divisor 23: [1, 2, 3, 5, 7, 11, 13, 17, 19, 23]\n",
      "Primes up to 23 are: [1, 2, 3, 5, 7, 11, 13, 17, 19, 23]\n"
     ]
    }
   ],
   "source": [
    "upper = 23\n",
    "primes = list(range(1,upper+1))  # all numbers between 1 and upper\n",
    "divisor = 1  # initial divisor\n",
    "while True:\n",
    "    divisor+=1  # next divisor\n",
    "    if divisor>upper:  # checked all divisors (?)\n",
    "        break\n",
    "    if not divisor in primes:\n",
    "        continue  # skip divisor which is not itself prime\n",
    "    i=0\n",
    "    while i<len(primes):\n",
    "        if primes[i]!=divisor and primes[i]%divisor==0:\n",
    "            primes.remove(primes[i])  # remove, next is with the same index\n",
    "        else:\n",
    "            i+=1 # skip to go to next\n",
    "    print(\"divisor %d:\"%divisor,primes)\n",
    "print(\"Primes up to %d are:\" % upper,primes)"
   ]
  },
  {
   "cell_type": "markdown",
   "metadata": {
    "slideshow": {
     "slide_type": "slide"
    }
   },
   "source": [
    "### User defined functions\n",
    "\n",
    "- particular function in the code  \n",
    "- inputs and outputs  \n",
    "- can occur in the same file as the main program  \n",
    "- docstrings **!!!**  "
   ]
  },
  {
   "cell_type": "markdown",
   "metadata": {
    "slideshow": {
     "slide_type": "-"
    }
   },
   "source": [
    "To avoid repetition of code, we write function and call them. \n",
    "Docstrings: first few lines of a user-defined function that explains what it does.\n",
    "\n",
    "**very important**"
   ]
  },
  {
   "cell_type": "markdown",
   "metadata": {
    "slideshow": {
     "slide_type": "slide"
    }
   },
   "source": [
    "#### Defining a custom function"
   ]
  },
  {
   "cell_type": "code",
   "execution_count": 19,
   "metadata": {
    "hide-output": false,
    "slideshow": {
     "slide_type": "fragment"
    }
   },
   "outputs": [
    {
     "name": "stdout",
     "output_type": "stream",
     "text": [
      "0.0\n",
      "Help on function my_function in module __main__:\n",
      "\n",
      "my_function()\n",
      "    This is docstring for my function which explains what the function does:\n",
      "    This function simply returns zero\n",
      "\n"
     ]
    }
   ],
   "source": [
    "def my_function():\n",
    "    '''This is docstring for my function which explains what the function does:\n",
    "       This function simply returns zero\n",
    "    '''\n",
    "    return 0.0  #function has to have return statement\n",
    "\n",
    "# call from the main program\n",
    "x=my_function()\n",
    "print(x)\n",
    "\n",
    "# see docs\n",
    "help(my_function)"
   ]
  },
  {
   "cell_type": "markdown",
   "metadata": {
    "slideshow": {
     "slide_type": "slide"
    }
   },
   "source": [
    "#### Input arguments\n",
    "\n",
    "Python supports **named arguments** as well as **positional arguments**\n",
    "\n",
    "Functions can have default values for optional arguments"
   ]
  },
  {
   "cell_type": "code",
   "execution_count": 20,
   "metadata": {
    "hide-output": false,
    "slideshow": {
     "slide_type": "fragment"
    }
   },
   "outputs": [
    {
     "name": "stdout",
     "output_type": "stream",
     "text": [
      "[0, 'test', 5]\n",
      "['one', 'two', 3]\n"
     ]
    }
   ],
   "source": [
    "def my_function(a,b,c = 5):\n",
    "    '''Build a list from three input arguments'''\n",
    "    return [a,b,c]\n",
    "\n",
    "# call from the main program\n",
    "x=my_function(0,\"test\")\n",
    "print(x)\n",
    "y=my_function(a=\"one\", c=3, b=\"two\")\n",
    "print(y)"
   ]
  },
  {
   "cell_type": "markdown",
   "metadata": {
    "slideshow": {
     "slide_type": "slide"
    }
   },
   "source": [
    "#### Variable scope"
   ]
  },
  {
   "cell_type": "code",
   "execution_count": 21,
   "metadata": {
    "hide-output": false,
    "slideshow": {
     "slide_type": "fragment"
    }
   },
   "outputs": [
    {
     "name": "stdout",
     "output_type": "stream",
     "text": [
      "my_function variables are:\n",
      "    a=10 \n",
      "    b=2 \n",
      "    my_nested_function=<function my_function.<locals>.my_nested_function at 0x7f9a18c76290> \n",
      "my_nested_function variables:\n",
      "    c=10 \n",
      "    d=2 \n",
      "The output from my function is  240\n"
     ]
    }
   ],
   "source": [
    "def my_function(a, b):\n",
    "\n",
    "    def my_nested_function(c, d):\n",
    "        print(\"my_nested_function variables:\")    # printing all variables in the scope of the function\n",
    "        for symbol, value in locals().items():    # printing all variables in the scope of the function\n",
    "            print (\"    %s=%r \"%(symbol,value))   # printing all variables in the scope of the function\n",
    "        return c + d\n",
    "\n",
    "    print(\"my_function variables are:\")           # printing all variables in the scope of the function\n",
    "    for symbol, value in locals().items():        # printing all variables in the scope of the function\n",
    "        print (\"    %s=%r \"%(symbol,value))       # printing all variables in the scope of the function\n",
    "\n",
    "    x = a * b * my_nested_function(a,b)\n",
    "    return x\n",
    "\n",
    "# call from the main program\n",
    "x=10\n",
    "y=2\n",
    "print('The output from my function is ',my_function(x,y))"
   ]
  },
  {
   "cell_type": "markdown",
   "metadata": {
    "slideshow": {
     "slide_type": "slide"
    }
   },
   "source": [
    "#### Lambda functions (inline functions)\n",
    "\n",
    "Short way to define simple functions, useful in bigger language constructs"
   ]
  },
  {
   "cell_type": "code",
   "execution_count": 22,
   "metadata": {
    "hide-output": false,
    "slideshow": {
     "slide_type": "fragment"
    }
   },
   "outputs": [
    {
     "name": "stdout",
     "output_type": "stream",
     "text": [
      "f(5)=125.000000\n",
      "y(3)=27.000000\n"
     ]
    }
   ],
   "source": [
    "def f(x):\n",
    "    return x**3\n",
    "\n",
    "y = lambda x: x**3\n",
    "\n",
    "print(\"f(5)=%f\"%f(5))\n",
    "print(\"y(3)=%f\"%y(3))"
   ]
  },
  {
   "cell_type": "markdown",
   "metadata": {
    "slideshow": {
     "slide_type": "slide"
    }
   },
   "source": [
    "#### Example of user defined function: memory usage\n",
    "\n",
    "First, plotting function"
   ]
  },
  {
   "cell_type": "code",
   "execution_count": 23,
   "metadata": {
    "hide-output": false,
    "slideshow": {
     "slide_type": "fragment"
    }
   },
   "outputs": [],
   "source": [
    "def my_plot(d):\n",
    "    '''Makes a nice plot using passed data'''\n",
    "    import matplotlib.pyplot as plt\n",
    "    plt.plot(d[\"x\"],d[\"y\"])\n",
    "    plt.axis([min(d[\"x\"]),max(d[\"x\"]),0,max(d[\"y\"])+1])\n",
    "    plt.ylabel('size in memory, bytes')\n",
    "    plt.xlabel('steps of variable update')\n",
    "    plt.show()"
   ]
  },
  {
   "cell_type": "code",
   "execution_count": 24,
   "metadata": {
    "hide-output": false,
    "slideshow": {
     "slide_type": "slide"
    }
   },
   "outputs": [],
   "source": [
    "def memory_usage(var,grow,steps=10):\n",
    "    '''Returns data on memory usage when var is grown using supplied function for given number of steps'''\n",
    "    d={\"x\":[],\"y\":[],\"v\":[]} # dictionary for x, y data, and values\n",
    "    for i in range(steps):\n",
    "        var=grow(var) # next value\n",
    "        d[\"v\"].append(var)\n",
    "        d[\"x\"].append(i+1) # start with step 1 rather than 0\n",
    "        d[\"y\"].append(sys.getsizeof(var))\n",
    "    return d"
   ]
  },
  {
   "cell_type": "code",
   "execution_count": 26,
   "metadata": {},
   "outputs": [],
   "source": [
    "import sys"
   ]
  },
  {
   "cell_type": "code",
   "execution_count": 31,
   "metadata": {
    "hide-output": false,
    "slideshow": {
     "slide_type": "slide"
    }
   },
   "outputs": [
    {
     "name": "stdout",
     "output_type": "stream",
     "text": [
      "Last value: [1.0043362776618688e+308, inf, inf, inf, inf]\n"
     ]
    },
    {
     "data": {
      "image/png": "[encoded data removed]",
      "text/plain": [
       "<Figure size 432x288 with 1 Axes>"
      ]
     },
     "metadata": {
      "needs_background": "light"
     },
     "output_type": "display_data"
    }
   ],
   "source": [
    "#d=memory_usage(var='*',grow=lambda x: x+\"*\",steps=10)\n",
    "#d=memory_usage(var='*',grow=lambda x: x*2,steps=10)\n",
    "#d=memory_usage(var=1,grow=lambda x: x*2,steps=200)\n",
    "d=memory_usage(var=1e249,grow=lambda x: x*2,steps=200)\n",
    "print(\"Last value: %r\"%d[\"v\"][-5:])\n",
    "my_plot(d)"
   ]
  },
  {
   "cell_type": "markdown",
   "metadata": {
    "slideshow": {
     "slide_type": "slide"
    }
   },
   "source": [
    "### Further learning resources\n",
    "\n",
    "- Python book: Kevin Sheppard “Introduction to Python for Econometrics,\n",
    "  Statistics and Data Analysis.” 3rd Edition University of Oxford\n",
    "  Thursday 1st February, 2018  \n",
    "- Coding style\n",
    "  [https://docs.python-guide.org/writing/style/#idioms](https://docs.python-guide.org/writing/style/#idioms)  \n",
    "- Formatting output\n",
    "  [https://pyformat.info/](https://pyformat.info/)  \n",
    "- Python inbuilt functions\n",
    "  [https://docs.python.org/3/library/functions.html](https://docs.python.org/3/library/functions.html)  "
   ]
  }
 ],
 "metadata": {
  "celltoolbar": "Slideshow",
  "date": 1597203913.615399,
  "filename": "05_python_flow.rst",
  "kernelspec": {
   "display_name": "Python 3",
   "language": "python",
   "name": "python3"
  },
  "language_info": {
   "codemirror_mode": {
    "name": "ipython",
    "version": 3
   },
   "file_extension": ".py",
   "mimetype": "text/x-python",
   "name": "python",
   "nbconvert_exporter": "python",
   "pygments_lexer": "ipython3",
   "version": "3.7.6"
  },
  "title": "Foundations of Computational Economics #5"
 },
 "nbformat": 4,
 "nbformat_minor": 4
}
